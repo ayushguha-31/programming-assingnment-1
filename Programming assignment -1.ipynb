{
 "cells": [
  {
   "cell_type": "markdown",
   "id": "9808fb78",
   "metadata": {},
   "source": [
    "1. Write a Python program to print &quot;Hello Python&quot;?"
   ]
  },
  {
   "cell_type": "code",
   "execution_count": 1,
   "id": "f8b0dcb9",
   "metadata": {},
   "outputs": [
    {
     "name": "stdout",
     "output_type": "stream",
     "text": [
      " \"Hello Python\" \n"
     ]
    }
   ],
   "source": [
    "print(' \"Hello Python\" ')"
   ]
  },
  {
   "cell_type": "markdown",
   "id": "d2cc1623",
   "metadata": {},
   "source": [
    "2. Write a Python program to do arithmetical operations addition and division.?"
   ]
  },
  {
   "cell_type": "code",
   "execution_count": 4,
   "id": "3c0610d1",
   "metadata": {},
   "outputs": [
    {
     "name": "stdout",
     "output_type": "stream",
     "text": [
      "the addition of a and b is : 15\n",
      "the division of a and b is : 2\n"
     ]
    }
   ],
   "source": [
    "a=10\n",
    "b=5\n",
    "add=a+b\n",
    "div=a//b\n",
    "print(f\"the addition of a and b is : {add}\")\n",
    "print(f\"the division of a and b is : {div}\")"
   ]
  },
  {
   "cell_type": "markdown",
   "id": "e40fa768",
   "metadata": {},
   "source": [
    "3. Write a Python program to find the area of a triangle?"
   ]
  },
  {
   "cell_type": "code",
   "execution_count": 5,
   "id": "e8314cc3",
   "metadata": {},
   "outputs": [
    {
     "name": "stdout",
     "output_type": "stream",
     "text": [
      " area of the given triangle is : 14.696938456699069\n"
     ]
    }
   ],
   "source": [
    "a=5\n",
    "b=6\n",
    "c=7\n",
    "s=(a+b+c)/2\n",
    "area_of_triangle=(s*(s-a)*(s-b)*(s-c))**(1/2)\n",
    "print(f' area of the given triangle is : {area_of_triangle}')"
   ]
  },
  {
   "cell_type": "markdown",
   "id": "661ac3a2",
   "metadata": {},
   "source": [
    "4. Write a Python program to swap two variables?"
   ]
  },
  {
   "cell_type": "code",
   "execution_count": 6,
   "id": "c9021940",
   "metadata": {},
   "outputs": [
    {
     "name": "stdout",
     "output_type": "stream",
     "text": [
      "the value of x after swapping is : 5\n",
      "the value of y after swapping is : 10\n"
     ]
    }
   ],
   "source": [
    "x=10\n",
    "y=5\n",
    "temp=x\n",
    "x=y\n",
    "y=temp\n",
    "print(f'the value of x after swapping is : {x}')\n",
    "print(f'the value of y after swapping is : {y}')"
   ]
  },
  {
   "cell_type": "markdown",
   "id": "ff399858",
   "metadata": {},
   "source": [
    "5. Write a Python program to generate a random number?\n"
   ]
  },
  {
   "cell_type": "code",
   "execution_count": 7,
   "id": "0945724e",
   "metadata": {},
   "outputs": [
    {
     "name": "stdout",
     "output_type": "stream",
     "text": [
      "67\n"
     ]
    }
   ],
   "source": [
    "import random\n",
    "n=random.randint(0,500)\n",
    "print(n)"
   ]
  },
  {
   "cell_type": "code",
   "execution_count": null,
   "id": "e255d96b",
   "metadata": {},
   "outputs": [],
   "source": []
  }
 ],
 "metadata": {
  "kernelspec": {
   "display_name": "Python 3 (ipykernel)",
   "language": "python",
   "name": "python3"
  },
  "language_info": {
   "codemirror_mode": {
    "name": "ipython",
    "version": 3
   },
   "file_extension": ".py",
   "mimetype": "text/x-python",
   "name": "python",
   "nbconvert_exporter": "python",
   "pygments_lexer": "ipython3",
   "version": "3.9.12"
  }
 },
 "nbformat": 4,
 "nbformat_minor": 5
}
